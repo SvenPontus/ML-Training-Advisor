{
 "cells": [
  {
   "cell_type": "code",
   "execution_count": 4,
   "metadata": {},
   "outputs": [
    {
     "name": "stdout",
     "output_type": "stream",
     "text": [
      "{'Rows': 200, 'Columns': 4, 'Memory (KB)': 6.4, 'Non-Numeric Columns': 'None'}\n",
      "\u001b[1m3/3\u001b[0m \u001b[32m━━━━━━━━━━━━━━━━━━━━\u001b[0m\u001b[37m\u001b[0m \u001b[1m0s\u001b[0m 18ms/step\n",
      "Mean Squared Error: 134.56876944892463\n",
      "R2 Score: -4.214032073439183\n"
     ]
    }
   ],
   "source": [
    "from data_processing import DataProcessing as DP\n",
    "from ann_model import MyAnnClass\n",
    "# Step 1: Data processing\n",
    "data_processor = DP(filepath='Adv.csv')\n",
    "df = data_processor.read_csv()\n",
    "print(data_processor.basic_info())\n",
    "\n",
    "# Prepare data for machine learning\n",
    "X, y = data_processor.prepare_for_ml(target_column_index=-1)  # Assuming the last column is the target\n",
    "\n",
    "# Step 2: Building and training the neural network\n",
    "ann_model = MyAnnClass(X, y, hidden_layer_sizes=(100, 50), activation='relu', loss='mse', \n",
    "                       optimizer='adam', batch_size=32, epochs=10, patience=5)\n",
    "\n",
    "ann_model.train()\n",
    "\n",
    "# Step 3: Evaluating the model\n",
    "evaluation_report = ann_model.evaluate()\n",
    "print(evaluation_report)"
   ]
  }
 ],
 "metadata": {
  "kernelspec": {
   "display_name": "venv",
   "language": "python",
   "name": "python3"
  },
  "language_info": {
   "codemirror_mode": {
    "name": "ipython",
    "version": 3
   },
   "file_extension": ".py",
   "mimetype": "text/x-python",
   "name": "python",
   "nbconvert_exporter": "python",
   "pygments_lexer": "ipython3",
   "version": "3.10.8"
  }
 },
 "nbformat": 4,
 "nbformat_minor": 2
}
