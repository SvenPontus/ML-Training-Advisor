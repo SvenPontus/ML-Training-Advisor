{
 "cells": [
  {
   "cell_type": "code",
   "execution_count": 1,
   "metadata": {},
   "outputs": [],
   "source": [
    "from data_processing import DataProcessing as DP\n",
    "from regressor_models import (LinearRegressionModel as LRM, \n",
    "                              LassoModel as LM, \n",
    "                              RidgeModel as RM,\n",
    "                              )"
   ]
  },
  {
   "cell_type": "code",
   "execution_count": 2,
   "metadata": {},
   "outputs": [],
   "source": [
    "from regressor_models import SVRModel as SVM"
   ]
  },
  {
   "cell_type": "code",
   "execution_count": 3,
   "metadata": {},
   "outputs": [],
   "source": [
    "from regressor_models import ElasticNetModel as ENM"
   ]
  },
  {
   "cell_type": "code",
   "execution_count": 2,
   "metadata": {},
   "outputs": [],
   "source": [
    "# Use DataProcessing class\n",
    "dp = DP('Adv.csv')\n",
    "df = dp.read_csv()\n",
    "X, y = dp.prepare_for_ml(3)"
   ]
  },
  {
   "cell_type": "code",
   "execution_count": 3,
   "metadata": {},
   "outputs": [],
   "source": [
    "def auto_use_model(model):\n",
    "    lrm_model = model(X, y)\n",
    "    lrm_model.train()\n",
    "    lrm_model.predict()\n",
    "    evaluation_result = lrm_model.evaluate()\n",
    "    print(evaluation_result)"
   ]
  },
  {
   "cell_type": "code",
   "execution_count": 4,
   "metadata": {},
   "outputs": [
    {
     "name": "stdout",
     "output_type": "stream",
     "text": [
      "MAE: 1.2369188494259316, MSE: 2.348375242713829, RMSE: 1.5324409426512426, R2 Score: 0.9231300835158752\n"
     ]
    }
   ],
   "source": [
    "# Use LinearRegressionModel as LRM\n",
    "auto_use_model(LRM)"
   ]
  },
  {
   "cell_type": "code",
   "execution_count": 5,
   "metadata": {},
   "outputs": [
    {
     "name": "stdout",
     "output_type": "stream",
     "text": [
      "MAE: 1.255544829244368, MSE: 2.463065254444965, RMSE: 1.5694155773551393, R2 Score: 0.9193759085173568\n"
     ]
    }
   ],
   "source": [
    "# Use LassoModel as LM\n",
    "auto_use_model(LM)\n"
   ]
  },
  {
   "cell_type": "code",
   "execution_count": 6,
   "metadata": {},
   "outputs": [
    {
     "name": "stdout",
     "output_type": "stream",
     "text": [
      "MAE: 1.2410615841169772, MSE: 2.373165828279881, RMSE: 1.5405083019185197, R2 Score: 0.9223186074760185\n"
     ]
    }
   ],
   "source": [
    "# Use RidgeModel as RM\n",
    "auto_use_model(RM)"
   ]
  },
  {
   "cell_type": "code",
   "execution_count": null,
   "metadata": {},
   "outputs": [],
   "source": [
    "# Use ElasticNet as EN\n",
    "auto_use_model(ENM)"
   ]
  },
  {
   "cell_type": "code",
   "execution_count": null,
   "metadata": {},
   "outputs": [],
   "source": [
    "# Use SVR as SVR\n",
    "auto_use_model(SVRM)"
   ]
  }
 ],
 "metadata": {
  "kernelspec": {
   "display_name": "venv",
   "language": "python",
   "name": "python3"
  },
  "language_info": {
   "codemirror_mode": {
    "name": "ipython",
    "version": 3
   },
   "file_extension": ".py",
   "mimetype": "text/x-python",
   "name": "python",
   "nbconvert_exporter": "python",
   "pygments_lexer": "ipython3",
   "version": "3.10.8"
  }
 },
 "nbformat": 4,
 "nbformat_minor": 2
}
