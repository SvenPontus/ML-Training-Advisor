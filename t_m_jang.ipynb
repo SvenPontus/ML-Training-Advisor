{
 "cells": [
  {
   "cell_type": "code",
   "execution_count": 2,
   "metadata": {},
   "outputs": [
    {
     "name": "stdout",
     "output_type": "stream",
     "text": [
      "MAE: 25.49318171663624, MSE: 1240.231445751707, RMSE: 35.216919878826815, R2 Score: 0.8151948483839512\n"
     ]
    },
    {
     "name": "stderr",
     "output_type": "stream",
     "text": [
      "c:\\Python_programmering\\Effective_python\\Inlämningar\\inlämning #1\\project_1\\venv\\lib\\site-packages\\sklearn\\metrics\\_regression.py:996: UndefinedMetricWarning: R^2 score is not well-defined with less than two samples.\n",
      "  warnings.warn(msg, UndefinedMetricWarning)\n",
      "c:\\Python_programmering\\Effective_python\\Inlämningar\\inlämning #1\\project_1\\venv\\lib\\site-packages\\sklearn\\metrics\\_regression.py:996: UndefinedMetricWarning: R^2 score is not well-defined with less than two samples.\n",
      "  warnings.warn(msg, UndefinedMetricWarning)\n",
      "c:\\Python_programmering\\Effective_python\\Inlämningar\\inlämning #1\\project_1\\venv\\lib\\site-packages\\sklearn\\metrics\\_regression.py:996: UndefinedMetricWarning: R^2 score is not well-defined with less than two samples.\n",
      "  warnings.warn(msg, UndefinedMetricWarning)\n",
      "c:\\Python_programmering\\Effective_python\\Inlämningar\\inlämning #1\\project_1\\venv\\lib\\site-packages\\sklearn\\metrics\\_regression.py:996: UndefinedMetricWarning: R^2 score is not well-defined with less than two samples.\n",
      "  warnings.warn(msg, UndefinedMetricWarning)\n",
      "c:\\Python_programmering\\Effective_python\\Inlämningar\\inlämning #1\\project_1\\venv\\lib\\site-packages\\sklearn\\metrics\\_regression.py:996: UndefinedMetricWarning: R^2 score is not well-defined with less than two samples.\n",
      "  warnings.warn(msg, UndefinedMetricWarning)\n",
      "c:\\Python_programmering\\Effective_python\\Inlämningar\\inlämning #1\\project_1\\venv\\lib\\site-packages\\sklearn\\metrics\\_regression.py:996: UndefinedMetricWarning: R^2 score is not well-defined with less than two samples.\n",
      "  warnings.warn(msg, UndefinedMetricWarning)\n",
      "c:\\Python_programmering\\Effective_python\\Inlämningar\\inlämning #1\\project_1\\venv\\lib\\site-packages\\sklearn\\metrics\\_regression.py:996: UndefinedMetricWarning: R^2 score is not well-defined with less than two samples.\n",
      "  warnings.warn(msg, UndefinedMetricWarning)\n",
      "c:\\Python_programmering\\Effective_python\\Inlämningar\\inlämning #1\\project_1\\venv\\lib\\site-packages\\sklearn\\metrics\\_regression.py:996: UndefinedMetricWarning: R^2 score is not well-defined with less than two samples.\n",
      "  warnings.warn(msg, UndefinedMetricWarning)\n",
      "c:\\Python_programmering\\Effective_python\\Inlämningar\\inlämning #1\\project_1\\venv\\lib\\site-packages\\sklearn\\model_selection\\_search.py:979: UserWarning: One or more of the test scores are non-finite: [nan]\n",
      "  warnings.warn(\n"
     ]
    }
   ],
   "source": [
    "from data_processing import DataProcessing\n",
    "from linear_reg import LinearRegressionModel\n",
    "\n",
    "data_processor = DataProcessing(filepath='Adv_small.csv')\n",
    "df = data_processor.read_csv()\n",
    "\n",
    "# Förbered datan för ML (kolumn 0 är målvariabeln)\n",
    "X, y = data_processor.prepare_for_ml(target_column_index=0)\n",
    "\n",
    "# Skapa och träna LinearRegressionModel\n",
    "lr_model = LinearRegressionModel(X, y)\n",
    "lr_model.train()\n",
    "\n",
    "# Gör förutsägelser\n",
    "lr_model.predict()\n",
    "\n",
    "# Utvärdera modellen\n",
    "evaluation_result = lr_model.evaluate()\n",
    "\n",
    "# Skriv ut resultatet av utvärderingen\n",
    "print(evaluation_result)"
   ]
  }
 ],
 "metadata": {
  "kernelspec": {
   "display_name": "venv",
   "language": "python",
   "name": "python3"
  },
  "language_info": {
   "codemirror_mode": {
    "name": "ipython",
    "version": 3
   },
   "file_extension": ".py",
   "mimetype": "text/x-python",
   "name": "python",
   "nbconvert_exporter": "python",
   "pygments_lexer": "ipython3",
   "version": "3.10.8"
  }
 },
 "nbformat": 4,
 "nbformat_minor": 2
}
